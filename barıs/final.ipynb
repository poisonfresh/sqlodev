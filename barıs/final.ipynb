{
  "nbformat": 4,
  "nbformat_minor": 0,
  "metadata": {
    "colab": {
      "provenance": []
    },
    "kernelspec": {
      "name": "python3",
      "display_name": "Python 3"
    },
    "language_info": {
      "name": "python"
    }
  },
  "cells": [
    {
      "cell_type": "code",
      "source": [
        "class Library:\n",
        "    def __init__(self):\n",
        "        self.file = open(\"books.txt\", \"a+\")\n",
        "    def __del__(self):\n",
        "        self.file.close()\n",
        "    def list_books(self):\n",
        "        self.file.seek(0)\n",
        "        bookss = self.file.read().splitlines()\n",
        "        if not bookss:\n",
        "            print(\"Bu listede hiç kitap bulunmamaktadır.\")\n",
        "            return\n",
        "        print(\"Kitaplar:\")\n",
        "        for book in bookss:\n",
        "            book_info = book.split(\",\")\n",
        "            print(f\"Başlık: {book_info[0]}, Yazar: {book_info[1]}, Çıkış tarihi: {book_info[2]}, Sayfa Sayısı: {book_info[3]}\")\n",
        "    def add_book(self):\n",
        "        title = input(\"Kitap başlığını girin: \")\n",
        "        author = input(\"Kitap yazarını girin: \")\n",
        "        release_year = input(\"Yayın yılı girin: \")\n",
        "        num_pages = input(\"Sayfa sayısını girin: \")\n",
        "        book_info = f\"{title},{author},{release_year},{num_pages}\\n\"\n",
        "        self.file.write(book_info)\n",
        "        print(\"Kitap başarıyla eklendi.\")\n",
        "    def remove_book(self):\n",
        "        title = input(\"Silmek istediğiniz kitabın adını girin: \")\n",
        "        self.file.seek(0)\n",
        "        books = self.file.readlines()\n",
        "        new_books = []\n",
        "        found = False\n",
        "        for book in books:\n",
        "            if title in book:\n",
        "                found = True\n",
        "            else:\n",
        "                new_books.append(book)\n",
        "        if not found:\n",
        "            print(\"Seçtiğiniz kitap ismi bulunamadı.\")\n",
        "            return\n",
        "        self.file.seek(0)\n",
        "        self.file.truncate()\n",
        "        self.file.writelines(new_books)\n",
        "        print(\"Kitap başarıyla silindi.\")\n",
        "\n",
        "lib = Library()\n",
        "while True:\n",
        "    print(\"\\n*** MENÜ ***\")\n",
        "    print(\"1) Kitapları Listele\")\n",
        "    print(\"2) Kitap Ekle\")\n",
        "    print(\"3) Kitap Sil\")\n",
        "    print(\"4) Çıkış\")\n",
        "    seçim = input(\"Seçiminizi girin: \")\n",
        "    if seçim == '1':\n",
        "        lib.list_books()\n",
        "    elif seçim == '2':\n",
        "        lib.add_book()\n",
        "    elif seçim == '3':\n",
        "        lib.remove_book()\n",
        "    elif seçim == '4':\n",
        "        break\n",
        "    else:\n",
        "        print(\"Geçersiz seçenek. Lütfen geçerli bir seçenek girin.\")\n"
      ],
      "metadata": {
        "id": "sAA_vQMbvart",
        "colab": {
          "base_uri": "https://localhost:8080/"
        },
        "outputId": "95dcc469-e593-46e4-b3d2-4f2de6da71d2"
      },
      "execution_count": null,
      "outputs": [
        {
          "name": "stdout",
          "output_type": "stream",
          "text": [
            "\n",
            "*** MENÜ ***\n",
            "1) Kitapları Listele\n",
            "2) Kitap Ekle\n",
            "3) Kitap Sil\n",
            "4) Çıkış\n",
            "Seçiminizi girin: 1\n",
            "Kitaplar:\n",
            "Başlık: kfrrf, Yazar: rgrg, Çıkış tarihi: 233, Sayfa Sayısı: 23\n",
            "\n",
            "*** MENÜ ***\n",
            "1) Kitapları Listele\n",
            "2) Kitap Ekle\n",
            "3) Kitap Sil\n",
            "4) Çıkış\n",
            "Seçiminizi girin: 3\n",
            "Silmek istediğiniz kitabın adını girin: kfrrf\n",
            "Kitap başarıyla silindi.\n",
            "\n",
            "*** MENÜ ***\n",
            "1) Kitapları Listele\n",
            "2) Kitap Ekle\n",
            "3) Kitap Sil\n",
            "4) Çıkış\n",
            "Seçiminizi girin: 4\n"
          ]
        }
      ]
    }
  ]
}